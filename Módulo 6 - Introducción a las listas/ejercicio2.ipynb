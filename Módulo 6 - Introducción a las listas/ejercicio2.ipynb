{
 "cells": [
  {
   "cell_type": "code",
   "execution_count": 1,
   "metadata": {},
   "outputs": [
    {
     "name": "stdout",
     "output_type": "stream",
     "text": [
      "Los planetas mas cercanos a Tierra\n",
      "['Mercurio', 'Venus']\n",
      "Los planetas mas alejados de Tierra son:\n",
      "['Marte', 'Jupiter', 'Saturno', 'Neptuno']\n"
     ]
    }
   ],
   "source": [
    "planetas = ['Mercurio', 'Venus', 'Tierra', 'Marte', 'Jupiter', 'Saturno', 'Neptuno']\n",
    "planetaIngresado = input('Por favor ingresa el nombre de un planeta (Empieza la primer letra con mayúscula)')\n",
    "indicePlaneta = planetas.index(planetaIngresado)\n",
    "print('Los planetas mas cercanos a ' + planetaIngresado)\n",
    "print(planetas[0:indicePlaneta])\n",
    "print('Los planetas mas alejados de ' + planetaIngresado + ' son:')\n",
    "print(planetas[indicePlaneta + 1:])\n",
    "\n",
    "\n"
   ]
  }
 ],
 "metadata": {
  "interpreter": {
   "hash": "0057e71dcab98606f3fce873e0e59c7a402205b59920e23f6d5a0e6f5e69ec5c"
  },
  "kernelspec": {
   "display_name": "Python 3.9.10 64-bit (windows store)",
   "language": "python",
   "name": "python3"
  },
  "language_info": {
   "codemirror_mode": {
    "name": "ipython",
    "version": 3
   },
   "file_extension": ".py",
   "mimetype": "text/x-python",
   "name": "python",
   "nbconvert_exporter": "python",
   "pygments_lexer": "ipython3",
   "version": "3.9.10"
  },
  "orig_nbformat": 4
 },
 "nbformat": 4,
 "nbformat_minor": 2
}
